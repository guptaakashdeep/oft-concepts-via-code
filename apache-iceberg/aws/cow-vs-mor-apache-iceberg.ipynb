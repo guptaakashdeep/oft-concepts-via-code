{
 "cells": [
  {
   "cell_type": "markdown",
   "id": "7250f5fb",
   "metadata": {},
   "source": [
    "# Copy-on-Write vs Merge-on-Read ?"
   ]
  },
  {
   "cell_type": "markdown",
   "id": "01299ee7",
   "metadata": {},
   "source": [
    "## Configuring Spark on EMR Notebook"
   ]
  },
  {
   "cell_type": "code",
   "execution_count": 1,
   "id": "0eabd6c8-005b-409b-970a-9a4cdfe58df9",
   "metadata": {
    "execution": {
     "iopub.execute_input": "2024-01-24T06:25:32.602953Z",
     "iopub.status.busy": "2024-01-24T06:25:32.602542Z",
     "iopub.status.idle": "2024-01-24T06:25:33.451202Z",
     "shell.execute_reply": "2024-01-24T06:25:33.449496Z",
     "shell.execute_reply.started": "2024-01-24T06:25:32.602913Z"
    },
    "tags": []
   },
   "outputs": [
    {
     "data": {
      "text/html": [
       "Current session configs: <tt>{'conf': {'spark.sql.extensions': 'org.apache.iceberg.spark.extensions.IcebergSparkSessionExtensions', 'spark.sql.catalog.glue': 'org.apache.iceberg.spark.SparkCatalog', 'spark.sql.catalog.glue.catalog-impl': 'org.apache.iceberg.aws.glue.GlueCatalog', 'spark.sql.catalog.glue.io-impl': 'org.apache.iceberg.aws.s3.S3FileIO', 'spark.sql.catalog.glue.warehouse': 's3://aws-blog-post-bucket/glue/warehouse'}, 'proxyUser': 'user_frosty-dev', 'kind': 'pyspark'}</tt><br>"
      ],
      "text/plain": [
       "<IPython.core.display.HTML object>"
      ]
     },
     "metadata": {},
     "output_type": "display_data"
    },
    {
     "data": {
      "text/html": [
       "No active sessions."
      ],
      "text/plain": [
       "<IPython.core.display.HTML object>"
      ]
     },
     "metadata": {},
     "output_type": "display_data"
    }
   ],
   "source": [
    "%%configure\n",
    "{\n",
    "    \"conf\": {\n",
    "      \"spark.sql.extensions\": \"org.apache.iceberg.spark.extensions.IcebergSparkSessionExtensions\",\n",
    "      \"spark.sql.catalog.glue\": \"org.apache.iceberg.spark.SparkCatalog\",\n",
    "        \"spark.sql.catalog.glue.catalog-impl\":\"org.apache.iceberg.aws.glue.GlueCatalog\",\n",
    "        \"spark.sql.catalog.glue.io-impl\":\"org.apache.iceberg.aws.s3.S3FileIO\",\n",
    "        \"spark.sql.catalog.glue.warehouse\":\"s3://aws-blog-post-bucket/glue/warehouse\"\n",
    "    }\n",
    "}"
   ]
  },
  {
   "cell_type": "markdown",
   "id": "32068c6c",
   "metadata": {},
   "source": [
    "## Reading NYC Taxi trips [data](https://www.nyc.gov/site/tlc/about/tlc-trip-record-data.page) for creating Iceberg Tables"
   ]
  },
  {
   "cell_type": "code",
   "execution_count": 2,
   "id": "8de09059-1547-46cf-babd-c9110c1c02ff",
   "metadata": {
    "execution": {
     "iopub.execute_input": "2024-01-24T06:26:24.010989Z",
     "iopub.status.busy": "2024-01-24T06:26:24.010715Z",
     "iopub.status.idle": "2024-01-24T06:27:43.291483Z",
     "shell.execute_reply": "2024-01-24T06:27:43.290251Z",
     "shell.execute_reply.started": "2024-01-24T06:26:24.010957Z"
    },
    "tags": []
   },
   "outputs": [
    {
     "data": {
      "application/vnd.jupyter.widget-view+json": {
       "model_id": "755ec2ba39614f72ae941b87f5c6cbb5",
       "version_major": 2,
       "version_minor": 0
      },
      "text/plain": [
       "VBox()"
      ]
     },
     "metadata": {},
     "output_type": "display_data"
    },
    {
     "name": "stdout",
     "output_type": "stream",
     "text": [
      "Starting Spark application\n"
     ]
    },
    {
     "data": {
      "text/html": [
       "<table>\n",
       "<tbody><tr><th>ID</th><th>YARN Application ID</th><th>Kind</th><th>State</th><th>Spark UI</th><th>Driver log</th><th>User</th><th>Current session?</th></tr><tr><td>0</td><td>application_1706077363286_0001</td><td>pyspark</td><td>idle</td><td><a target=\"_blank\" href=\"http://ip-172-31-14-19.ap-south-1.compute.internal:20888/proxy/application_1706077363286_0001/\" class=\"emr-proxy-link j-1OUMJURW0S560 application_1706077363286_0001\" emr-resource=\"j-1OUMJURW0S560\n",
       "\" application-id=\"application_1706077363286_0001\">Link</a></td><td><a target=\"_blank\" href=\"http://ip-172-31-9-73.ap-south-1.compute.internal:8042/node/containerlogs/container_1706077363286_0001_01_000001/livy\">Link</a></td><td>None</td><td>✔</td></tr></tbody></table>"
      ],
      "text/plain": [
       "<IPython.core.display.HTML object>"
      ]
     },
     "metadata": {},
     "output_type": "display_data"
    },
    {
     "data": {
      "application/vnd.jupyter.widget-view+json": {
       "model_id": "",
       "version_major": 2,
       "version_minor": 0
      },
      "text/plain": [
       "FloatProgress(value=0.0, bar_style='info', description='Progress:', layout=Layout(height='25px', width='50%'),…"
      ]
     },
     "metadata": {},
     "output_type": "display_data"
    },
    {
     "name": "stdout",
     "output_type": "stream",
     "text": [
      "SparkSession available as 'spark'.\n"
     ]
    },
    {
     "data": {
      "application/vnd.jupyter.widget-view+json": {
       "model_id": "",
       "version_major": 2,
       "version_minor": 0
      },
      "text/plain": [
       "FloatProgress(value=0.0, bar_style='info', description='Progress:', layout=Layout(height='25px', width='50%'),…"
      ]
     },
     "metadata": {},
     "output_type": "display_data"
    },
    {
     "name": "stdout",
     "output_type": "stream",
     "text": [
      "+--------+-----+-------+\n",
      "|VendorID|month|  count|\n",
      "+--------+-----+-------+\n",
      "|       1|    9| 731968|\n",
      "|       2|    9|2113902|\n",
      "|       6|    9|    852|\n",
      "|       2|   10|2617320|\n",
      "|       1|   10| 904463|\n",
      "|       6|   10|    502|\n",
      "+--------+-----+-------+"
     ]
    }
   ],
   "source": [
    "from pyspark.sql.functions import lit, col\n",
    "\n",
    "# Reading NYC Yellow Taxi Data\n",
    "data_bucket = \"aws-blog-post-bucket\" # Change here\n",
    "raw_data_path = f\"s3://{data_bucket}/raw_data/nyc_tlc\"\n",
    "yellow_sep_df = spark.read.format(\"parquet\").load(f\"{raw_data_path}/yellow/sep2023/\")\n",
    "yellow_oct_df = spark.read.format(\"parquet\").load(f\"{raw_data_path}/yellow/oct2023/\")\n",
    "# Creating month and year column\n",
    "yellow_sep_df = yellow_sep_df.withColumn(\"month\", lit(9)) \\\n",
    "        .withColumn(\"year\", lit(2023))\n",
    "yellow_oct_df = yellow_oct_df.withColumn(\"month\", lit(10)) \\\n",
    "        .withColumn(\"year\", lit(2023))\n",
    "yellow_df = yellow_sep_df.unionByName(yellow_oct_df)\n",
    "yellow_df.groupBy(\"VendorID\",\"month\").count().show()"
   ]
  },
  {
   "cell_type": "code",
   "execution_count": 4,
   "id": "b83eb69a-e7bc-4999-be18-21423b94c7ed",
   "metadata": {
    "execution": {
     "iopub.execute_input": "2024-01-24T06:28:54.860641Z",
     "iopub.status.busy": "2024-01-24T06:28:54.860358Z",
     "iopub.status.idle": "2024-01-24T06:29:06.239519Z",
     "shell.execute_reply": "2024-01-24T06:29:06.238099Z",
     "shell.execute_reply.started": "2024-01-24T06:28:54.860610Z"
    },
    "tags": []
   },
   "outputs": [
    {
     "data": {
      "application/vnd.jupyter.widget-view+json": {
       "model_id": "ba17f0bcd7a64ad1b41cd547e4708fb5",
       "version_major": 2,
       "version_minor": 0
      },
      "text/plain": [
       "VBox()"
      ]
     },
     "metadata": {},
     "output_type": "display_data"
    },
    {
     "data": {
      "application/vnd.jupyter.widget-view+json": {
       "model_id": "",
       "version_major": 2,
       "version_minor": 0
      },
      "text/plain": [
       "FloatProgress(value=0.0, bar_style='info', description='Progress:', layout=Layout(height='25px', width='50%'),…"
      ]
     },
     "metadata": {},
     "output_type": "display_data"
    },
    {
     "name": "stdout",
     "output_type": "stream",
     "text": [
      "6369007"
     ]
    }
   ],
   "source": [
    "yellow_df.count()"
   ]
  },
  {
   "cell_type": "markdown",
   "id": "68d7b306-fc77-4f0b-8805-8f40e06ef50d",
   "metadata": {},
   "source": [
    "## Creating COW and MOR Table with same data"
   ]
  },
  {
   "cell_type": "code",
   "execution_count": 5,
   "id": "d6537d28-765a-4ec8-891e-d2bbd09846ad",
   "metadata": {
    "execution": {
     "iopub.execute_input": "2024-01-24T06:29:06.241305Z",
     "iopub.status.busy": "2024-01-24T06:29:06.241071Z",
     "iopub.status.idle": "2024-01-24T06:29:06.317915Z",
     "shell.execute_reply": "2024-01-24T06:29:06.317043Z",
     "shell.execute_reply.started": "2024-01-24T06:29:06.241274Z"
    },
    "tags": []
   },
   "outputs": [
    {
     "data": {
      "application/vnd.jupyter.widget-view+json": {
       "model_id": "f829be1dedf24edbb4030cc20f9fb9cb",
       "version_major": 2,
       "version_minor": 0
      },
      "text/plain": [
       "VBox()"
      ]
     },
     "metadata": {},
     "output_type": "display_data"
    },
    {
     "data": {
      "application/vnd.jupyter.widget-view+json": {
       "model_id": "",
       "version_major": 2,
       "version_minor": 0
      },
      "text/plain": [
       "FloatProgress(value=0.0, bar_style='info', description='Progress:', layout=Layout(height='25px', width='50%'),…"
      ]
     },
     "metadata": {},
     "output_type": "display_data"
    }
   ],
   "source": [
    "## Creating 2 tables with same data\n",
    "cow_table = \"glue.blogs_db.yellow_taxi_trips_cow\"\n",
    "mor_table = \"glue.blogs_db.yellow_taxi_trips_mor\""
   ]
  },
  {
   "cell_type": "code",
   "execution_count": 6,
   "id": "bb66f40d-ec6b-404e-9a27-cbbbb3212f80",
   "metadata": {
    "execution": {
     "iopub.execute_input": "2024-01-24T06:29:29.638412Z",
     "iopub.status.busy": "2024-01-24T06:29:29.638065Z",
     "iopub.status.idle": "2024-01-24T06:29:55.072883Z",
     "shell.execute_reply": "2024-01-24T06:29:55.071911Z",
     "shell.execute_reply.started": "2024-01-24T06:29:29.638380Z"
    },
    "tags": []
   },
   "outputs": [
    {
     "data": {
      "application/vnd.jupyter.widget-view+json": {
       "model_id": "25ab15f81c6945988b9ac51a7f679a13",
       "version_major": 2,
       "version_minor": 0
      },
      "text/plain": [
       "VBox()"
      ]
     },
     "metadata": {},
     "output_type": "display_data"
    },
    {
     "data": {
      "application/vnd.jupyter.widget-view+json": {
       "model_id": "",
       "version_major": 2,
       "version_minor": 0
      },
      "text/plain": [
       "FloatProgress(value=0.0, bar_style='info', description='Progress:', layout=Layout(height='25px', width='50%'),…"
      ]
     },
     "metadata": {},
     "output_type": "display_data"
    }
   ],
   "source": [
    "# creating an Iceberg table in glue catalog within nyc_tlc database. default compression is taken as 'zstd'\n",
    "yellow_df.writeTo(cow_table).partitionedBy(\"year\", \"month\").using(\"iceberg\") \\\n",
    "            .tableProperty(\"format-version\", \"2\") \\\n",
    "            .tableProperty(\"write.parquet.compression-codec\", \"snappy\") \\\n",
    "            .create()"
   ]
  },
  {
   "cell_type": "code",
   "execution_count": 7,
   "id": "cc19031b-c8a5-4a6a-bd1f-d4d086c431cf",
   "metadata": {
    "execution": {
     "iopub.execute_input": "2024-01-24T06:29:55.075172Z",
     "iopub.status.busy": "2024-01-24T06:29:55.074807Z",
     "iopub.status.idle": "2024-01-24T06:30:06.450223Z",
     "shell.execute_reply": "2024-01-24T06:30:06.448775Z",
     "shell.execute_reply.started": "2024-01-24T06:29:55.075123Z"
    },
    "tags": []
   },
   "outputs": [
    {
     "data": {
      "application/vnd.jupyter.widget-view+json": {
       "model_id": "2ce83557d78240738111a42b9df12e11",
       "version_major": 2,
       "version_minor": 0
      },
      "text/plain": [
       "VBox()"
      ]
     },
     "metadata": {},
     "output_type": "display_data"
    },
    {
     "data": {
      "application/vnd.jupyter.widget-view+json": {
       "model_id": "",
       "version_major": 2,
       "version_minor": 0
      },
      "text/plain": [
       "FloatProgress(value=0.0, bar_style='info', description='Progress:', layout=Layout(height='25px', width='50%'),…"
      ]
     },
     "metadata": {},
     "output_type": "display_data"
    }
   ],
   "source": [
    "yellow_df.writeTo(mor_table).partitionedBy(\"year\", \"month\").using(\"iceberg\") \\\n",
    "            .tableProperty(\"format-version\", \"2\") \\\n",
    "            .tableProperty(\"write.parquet.compression-codec\", \"snappy\") \\\n",
    "            .create()"
   ]
  },
  {
   "cell_type": "markdown",
   "id": "819529bb-ff47-4ea0-bb23-c177d456b862",
   "metadata": {},
   "source": [
    "## Pre Analysis of tables after tables are created"
   ]
  },
  {
   "cell_type": "markdown",
   "id": "f5f1c8da-2b22-4059-b8d3-7f910b5cfcf8",
   "metadata": {},
   "source": [
    "### COW Table Anaysis"
   ]
  },
  {
   "cell_type": "code",
   "execution_count": 9,
   "id": "ef229925-f4a1-4044-825f-72e817215b8d",
   "metadata": {
    "execution": {
     "iopub.execute_input": "2024-01-24T06:31:17.994722Z",
     "iopub.status.busy": "2024-01-24T06:31:17.994450Z",
     "iopub.status.idle": "2024-01-24T06:31:19.288217Z",
     "shell.execute_reply": "2024-01-24T06:31:19.287099Z",
     "shell.execute_reply.started": "2024-01-24T06:31:17.994690Z"
    },
    "tags": []
   },
   "outputs": [
    {
     "data": {
      "application/vnd.jupyter.widget-view+json": {
       "model_id": "9fae8da7036140178f81dbdd22d51f50",
       "version_major": 2,
       "version_minor": 0
      },
      "text/plain": [
       "VBox()"
      ]
     },
     "metadata": {},
     "output_type": "display_data"
    },
    {
     "data": {
      "application/vnd.jupyter.widget-view+json": {
       "model_id": "",
       "version_major": 2,
       "version_minor": 0
      },
      "text/plain": [
       "FloatProgress(value=0.0, bar_style='info', description='Progress:', layout=Layout(height='25px', width='50%'),…"
      ]
     },
     "metadata": {},
     "output_type": "display_data"
    },
    {
     "name": "stdout",
     "output_type": "stream",
     "text": [
      "+-----------------------+-------------------+---------+---------+--------------------------------------------------------------------------------------------------------------------------------------+---------------------------------------------------------------------------------------------------------------------------------------------------------------------------------------------------------------------------------------------------------------------------------------------------------------------------------+\n",
      "|committed_at           |snapshot_id        |parent_id|operation|manifest_list                                                                                                                         |summary                                                                                                                                                                                                                                                                                                                          |\n",
      "+-----------------------+-------------------+---------+---------+--------------------------------------------------------------------------------------------------------------------------------------+---------------------------------------------------------------------------------------------------------------------------------------------------------------------------------------------------------------------------------------------------------------------------------------------------------------------------------+\n",
      "|2024-01-24 06:29:54.142|6487859664670042782|null     |append   |s3://aws-blog-post-bucket/blogs_db/yellow_taxi_trips_cow/metadata/snap-6487859664670042782-1-94817dc8-e5f0-42fe-b14c-c6e72a4f3c39.avro|{spark.app.id -> application_1706077363286_0001, added-data-files -> 7, added-records -> 6369007, added-files-size -> 132226484, changed-partition-count -> 2, total-records -> 6369007, total-files-size -> 132226484, total-data-files -> 7, total-delete-files -> 0, total-position-deletes -> 0, total-equality-deletes -> 0}|\n",
      "+-----------------------+-------------------+---------+---------+--------------------------------------------------------------------------------------------------------------------------------------+---------------------------------------------------------------------------------------------------------------------------------------------------------------------------------------------------------------------------------------------------------------------------------------------------------------------------------+"
     ]
    }
   ],
   "source": [
    "spark.sql(f\"select * from {cow_table}.snapshots\").orderBy(col(\"committed_at\").desc()).show(truncate=False)"
   ]
  },
  {
   "cell_type": "code",
   "execution_count": 10,
   "id": "ae96d578-c261-48b6-83ed-fca995b3f2c6",
   "metadata": {
    "execution": {
     "iopub.execute_input": "2024-01-24T06:31:42.992584Z",
     "iopub.status.busy": "2024-01-24T06:31:42.992236Z",
     "iopub.status.idle": "2024-01-24T06:31:43.777285Z",
     "shell.execute_reply": "2024-01-24T06:31:43.776430Z",
     "shell.execute_reply.started": "2024-01-24T06:31:42.992534Z"
    },
    "tags": []
   },
   "outputs": [
    {
     "data": {
      "application/vnd.jupyter.widget-view+json": {
       "model_id": "0db9f59ed5b74ae9aacf9b67460fc072",
       "version_major": 2,
       "version_minor": 0
      },
      "text/plain": [
       "VBox()"
      ]
     },
     "metadata": {},
     "output_type": "display_data"
    },
    {
     "data": {
      "application/vnd.jupyter.widget-view+json": {
       "model_id": "",
       "version_major": 2,
       "version_minor": 0
      },
      "text/plain": [
       "FloatProgress(value=0.0, bar_style='info', description='Progress:', layout=Layout(height='25px', width='50%'),…"
      ]
     },
     "metadata": {},
     "output_type": "display_data"
    },
    {
     "name": "stdout",
     "output_type": "stream",
     "text": [
      "+-------+--------------------------------------------------------------------------------------------------------------+------+-----------------+-------------------+----------------------+-------------------------+------------------------+------------------------+---------------------------+--------------------------+---------------------------------------------------+\n",
      "|content|path                                                                                                          |length|partition_spec_id|added_snapshot_id  |added_data_files_count|existing_data_files_count|deleted_data_files_count|added_delete_files_count|existing_delete_files_count|deleted_delete_files_count|partition_summaries                                |\n",
      "+-------+--------------------------------------------------------------------------------------------------------------+------+-----------------+-------------------+----------------------+-------------------------+------------------------+------------------------+---------------------------+--------------------------+---------------------------------------------------+\n",
      "|0      |s3://aws-blog-post-bucket/blogs_db/yellow_taxi_trips_cow/metadata/94817dc8-e5f0-42fe-b14c-c6e72a4f3c39-m0.avro|10034 |0                |6487859664670042782|7                     |0                        |0                       |0                       |0                          |0                         |[{false, false, 2023, 2023}, {false, false, 9, 10}]|\n",
      "+-------+--------------------------------------------------------------------------------------------------------------+------+-----------------+-------------------+----------------------+-------------------------+------------------------+------------------------+---------------------------+--------------------------+---------------------------------------------------+"
     ]
    }
   ],
   "source": [
    "spark.sql(f\"select * from {cow_table}.manifests\").show(truncate=False)"
   ]
  },
  {
   "cell_type": "code",
   "execution_count": 8,
   "id": "09a14f90-fe66-40e1-8a49-bc8e92cdeaa3",
   "metadata": {
    "execution": {
     "iopub.execute_input": "2024-01-24T06:30:17.999952Z",
     "iopub.status.busy": "2024-01-24T06:30:17.999671Z",
     "iopub.status.idle": "2024-01-24T06:30:20.324953Z",
     "shell.execute_reply": "2024-01-24T06:30:20.323727Z",
     "shell.execute_reply.started": "2024-01-24T06:30:17.999921Z"
    },
    "tags": []
   },
   "outputs": [
    {
     "data": {
      "application/vnd.jupyter.widget-view+json": {
       "model_id": "de943a92a58247e6882bd4b8df4dd504",
       "version_major": 2,
       "version_minor": 0
      },
      "text/plain": [
       "VBox()"
      ]
     },
     "metadata": {},
     "output_type": "display_data"
    },
    {
     "data": {
      "application/vnd.jupyter.widget-view+json": {
       "model_id": "",
       "version_major": 2,
       "version_minor": 0
      },
      "text/plain": [
       "FloatProgress(value=0.0, bar_style='info', description='Progress:', layout=Layout(height='25px', width='50%'),…"
      ]
     },
     "metadata": {},
     "output_type": "display_data"
    },
    {
     "name": "stdout",
     "output_type": "stream",
     "text": [
      "+-------+-----------+--------------------------------------------------------------------------------------------------------------------------------------------+------------+\n",
      "|content|file_format|file_path                                                                                                                                   |record_count|\n",
      "+-------+-----------+--------------------------------------------------------------------------------------------------------------------------------------------+------------+\n",
      "|0      |PARQUET    |s3://aws-blog-post-bucket/blogs_db/yellow_taxi_trips_cow/data/year=2023/month=9/00000-32-f4235c17-4534-409a-95eb-e417dc4cb7dd-00001.parquet |1048576     |\n",
      "|0      |PARQUET    |s3://aws-blog-post-bucket/blogs_db/yellow_taxi_trips_cow/data/year=2023/month=9/00002-34-f4235c17-4534-409a-95eb-e417dc4cb7dd-00001.parquet |1048576     |\n",
      "|0      |PARQUET    |s3://aws-blog-post-bucket/blogs_db/yellow_taxi_trips_cow/data/year=2023/month=9/00003-35-f4235c17-4534-409a-95eb-e417dc4cb7dd-00001.parquet |749570      |\n",
      "|0      |PARQUET    |s3://aws-blog-post-bucket/blogs_db/yellow_taxi_trips_cow/data/year=2023/month=10/00004-36-f4235c17-4534-409a-95eb-e417dc4cb7dd-00001.parquet|1048576     |\n",
      "|0      |PARQUET    |s3://aws-blog-post-bucket/blogs_db/yellow_taxi_trips_cow/data/year=2023/month=10/00005-37-f4235c17-4534-409a-95eb-e417dc4cb7dd-00001.parquet|1048576     |\n",
      "|0      |PARQUET    |s3://aws-blog-post-bucket/blogs_db/yellow_taxi_trips_cow/data/year=2023/month=10/00006-38-f4235c17-4534-409a-95eb-e417dc4cb7dd-00001.parquet|1048576     |\n",
      "|0      |PARQUET    |s3://aws-blog-post-bucket/blogs_db/yellow_taxi_trips_cow/data/year=2023/month=10/00007-39-f4235c17-4534-409a-95eb-e417dc4cb7dd-00001.parquet|376557      |\n",
      "+-------+-----------+--------------------------------------------------------------------------------------------------------------------------------------------+------------+"
     ]
    }
   ],
   "source": [
    "spark.sql(f\"select content, file_format, file_path, record_count from {cow_table}.files\").show(truncate=False)"
   ]
  },
  {
   "cell_type": "markdown",
   "id": "0f62e3b4-8742-4ed6-a604-7219b04a55b1",
   "metadata": {},
   "source": [
    "### MOR Table Anaysis"
   ]
  },
  {
   "cell_type": "code",
   "execution_count": 11,
   "id": "5cb785ae-9de8-4f67-9284-a12bcb360250",
   "metadata": {
    "execution": {
     "iopub.execute_input": "2024-01-24T06:31:56.612093Z",
     "iopub.status.busy": "2024-01-24T06:31:56.611819Z",
     "iopub.status.idle": "2024-01-24T06:31:57.396288Z",
     "shell.execute_reply": "2024-01-24T06:31:57.395106Z",
     "shell.execute_reply.started": "2024-01-24T06:31:56.612062Z"
    },
    "tags": []
   },
   "outputs": [
    {
     "data": {
      "application/vnd.jupyter.widget-view+json": {
       "model_id": "6038fd7edcc44ab9bef19bddb281112e",
       "version_major": 2,
       "version_minor": 0
      },
      "text/plain": [
       "VBox()"
      ]
     },
     "metadata": {},
     "output_type": "display_data"
    },
    {
     "data": {
      "application/vnd.jupyter.widget-view+json": {
       "model_id": "",
       "version_major": 2,
       "version_minor": 0
      },
      "text/plain": [
       "FloatProgress(value=0.0, bar_style='info', description='Progress:', layout=Layout(height='25px', width='50%'),…"
      ]
     },
     "metadata": {},
     "output_type": "display_data"
    },
    {
     "name": "stdout",
     "output_type": "stream",
     "text": [
      "+-----------------------+-------------------+---------+---------+--------------------------------------------------------------------------------------------------------------------------------------+---------------------------------------------------------------------------------------------------------------------------------------------------------------------------------------------------------------------------------------------------------------------------------------------------------------------------------+\n",
      "|committed_at           |snapshot_id        |parent_id|operation|manifest_list                                                                                                                         |summary                                                                                                                                                                                                                                                                                                                          |\n",
      "+-----------------------+-------------------+---------+---------+--------------------------------------------------------------------------------------------------------------------------------------+---------------------------------------------------------------------------------------------------------------------------------------------------------------------------------------------------------------------------------------------------------------------------------------------------------------------------------+\n",
      "|2024-01-24 06:30:05.899|8771378503908813917|null     |append   |s3://aws-blog-post-bucket/blogs_db/yellow_taxi_trips_mor/metadata/snap-8771378503908813917-1-fcc81a15-06ee-49e4-b305-de553b5a224d.avro|{spark.app.id -> application_1706077363286_0001, added-data-files -> 7, added-records -> 6369007, added-files-size -> 132226484, changed-partition-count -> 2, total-records -> 6369007, total-files-size -> 132226484, total-data-files -> 7, total-delete-files -> 0, total-position-deletes -> 0, total-equality-deletes -> 0}|\n",
      "+-----------------------+-------------------+---------+---------+--------------------------------------------------------------------------------------------------------------------------------------+---------------------------------------------------------------------------------------------------------------------------------------------------------------------------------------------------------------------------------------------------------------------------------------------------------------------------------+"
     ]
    }
   ],
   "source": [
    "spark.sql(f\"select * from {mor_table}.snapshots\").show(truncate=False)"
   ]
  },
  {
   "cell_type": "code",
   "execution_count": 12,
   "id": "7bec4be6-5e6b-4e8d-a4d5-2f439f843d9a",
   "metadata": {
    "execution": {
     "iopub.execute_input": "2024-01-24T06:32:14.934266Z",
     "iopub.status.busy": "2024-01-24T06:32:14.933968Z",
     "iopub.status.idle": "2024-01-24T06:32:15.725036Z",
     "shell.execute_reply": "2024-01-24T06:32:15.724143Z",
     "shell.execute_reply.started": "2024-01-24T06:32:14.934235Z"
    },
    "tags": []
   },
   "outputs": [
    {
     "data": {
      "application/vnd.jupyter.widget-view+json": {
       "model_id": "f8d2f00183064265bdc233cfd18cce5d",
       "version_major": 2,
       "version_minor": 0
      },
      "text/plain": [
       "VBox()"
      ]
     },
     "metadata": {},
     "output_type": "display_data"
    },
    {
     "data": {
      "application/vnd.jupyter.widget-view+json": {
       "model_id": "",
       "version_major": 2,
       "version_minor": 0
      },
      "text/plain": [
       "FloatProgress(value=0.0, bar_style='info', description='Progress:', layout=Layout(height='25px', width='50%'),…"
      ]
     },
     "metadata": {},
     "output_type": "display_data"
    },
    {
     "name": "stdout",
     "output_type": "stream",
     "text": [
      "+-------+--------------------------------------------------------------------------------------------------------------+------+-----------------+-------------------+----------------------+-------------------------+------------------------+------------------------+---------------------------+--------------------------+---------------------------------------------------+\n",
      "|content|path                                                                                                          |length|partition_spec_id|added_snapshot_id  |added_data_files_count|existing_data_files_count|deleted_data_files_count|added_delete_files_count|existing_delete_files_count|deleted_delete_files_count|partition_summaries                                |\n",
      "+-------+--------------------------------------------------------------------------------------------------------------+------+-----------------+-------------------+----------------------+-------------------------+------------------------+------------------------+---------------------------+--------------------------+---------------------------------------------------+\n",
      "|0      |s3://aws-blog-post-bucket/blogs_db/yellow_taxi_trips_mor/metadata/fcc81a15-06ee-49e4-b305-de553b5a224d-m0.avro|10035 |0                |8771378503908813917|7                     |0                        |0                       |0                       |0                          |0                         |[{false, false, 2023, 2023}, {false, false, 9, 10}]|\n",
      "+-------+--------------------------------------------------------------------------------------------------------------+------+-----------------+-------------------+----------------------+-------------------------+------------------------+------------------------+---------------------------+--------------------------+---------------------------------------------------+"
     ]
    }
   ],
   "source": [
    "spark.sql(f\"select * from {mor_table}.manifests\").show(truncate=False)"
   ]
  },
  {
   "cell_type": "code",
   "execution_count": 13,
   "id": "ee558c6d-543c-4708-a664-f219aebd2cef",
   "metadata": {
    "execution": {
     "iopub.execute_input": "2024-01-24T06:32:25.744358Z",
     "iopub.status.busy": "2024-01-24T06:32:25.744085Z",
     "iopub.status.idle": "2024-01-24T06:32:26.533971Z",
     "shell.execute_reply": "2024-01-24T06:32:26.532964Z",
     "shell.execute_reply.started": "2024-01-24T06:32:25.744327Z"
    },
    "tags": []
   },
   "outputs": [
    {
     "data": {
      "application/vnd.jupyter.widget-view+json": {
       "model_id": "61ba062afb2e486b82f66d7f67a9e7a8",
       "version_major": 2,
       "version_minor": 0
      },
      "text/plain": [
       "VBox()"
      ]
     },
     "metadata": {},
     "output_type": "display_data"
    },
    {
     "data": {
      "application/vnd.jupyter.widget-view+json": {
       "model_id": "",
       "version_major": 2,
       "version_minor": 0
      },
      "text/plain": [
       "FloatProgress(value=0.0, bar_style='info', description='Progress:', layout=Layout(height='25px', width='50%'),…"
      ]
     },
     "metadata": {},
     "output_type": "display_data"
    },
    {
     "name": "stdout",
     "output_type": "stream",
     "text": [
      "+-------+-----------+--------------------------------------------------------------------------------------------------------------------------------------------+------------+\n",
      "|content|file_format|file_path                                                                                                                                   |record_count|\n",
      "+-------+-----------+--------------------------------------------------------------------------------------------------------------------------------------------+------------+\n",
      "|0      |PARQUET    |s3://aws-blog-post-bucket/blogs_db/yellow_taxi_trips_mor/data/year=2023/month=9/00001-41-131e5ffa-a9ce-4b67-96d7-f49cae976d4d-00001.parquet |1048576     |\n",
      "|0      |PARQUET    |s3://aws-blog-post-bucket/blogs_db/yellow_taxi_trips_mor/data/year=2023/month=9/00004-44-131e5ffa-a9ce-4b67-96d7-f49cae976d4d-00001.parquet |1048576     |\n",
      "|0      |PARQUET    |s3://aws-blog-post-bucket/blogs_db/yellow_taxi_trips_mor/data/year=2023/month=9/00006-46-131e5ffa-a9ce-4b67-96d7-f49cae976d4d-00001.parquet |749570      |\n",
      "|0      |PARQUET    |s3://aws-blog-post-bucket/blogs_db/yellow_taxi_trips_mor/data/year=2023/month=10/00009-49-131e5ffa-a9ce-4b67-96d7-f49cae976d4d-00001.parquet|1048576     |\n",
      "|0      |PARQUET    |s3://aws-blog-post-bucket/blogs_db/yellow_taxi_trips_mor/data/year=2023/month=10/00011-51-131e5ffa-a9ce-4b67-96d7-f49cae976d4d-00001.parquet|1048576     |\n",
      "|0      |PARQUET    |s3://aws-blog-post-bucket/blogs_db/yellow_taxi_trips_mor/data/year=2023/month=10/00013-53-131e5ffa-a9ce-4b67-96d7-f49cae976d4d-00001.parquet|1048576     |\n",
      "|0      |PARQUET    |s3://aws-blog-post-bucket/blogs_db/yellow_taxi_trips_mor/data/year=2023/month=10/00015-55-131e5ffa-a9ce-4b67-96d7-f49cae976d4d-00001.parquet|376557      |\n",
      "+-------+-----------+--------------------------------------------------------------------------------------------------------------------------------------------+------------+"
     ]
    }
   ],
   "source": [
    "spark.sql(f\"select content, file_format, file_path, record_count from {mor_table}.files\").show(truncate=False)"
   ]
  },
  {
   "cell_type": "markdown",
   "id": "a3fbd270-f25f-4e32-bf4e-28b7bfa36f20",
   "metadata": {},
   "source": [
    "## Altering table to set COW and MOR table properties"
   ]
  },
  {
   "cell_type": "code",
   "execution_count": 14,
   "id": "b0627eb9-284f-43fd-a5e1-d5c70803a5e5",
   "metadata": {
    "execution": {
     "iopub.execute_input": "2024-01-24T06:32:36.690645Z",
     "iopub.status.busy": "2024-01-24T06:32:36.690362Z",
     "iopub.status.idle": "2024-01-24T06:32:37.983195Z",
     "shell.execute_reply": "2024-01-24T06:32:37.982333Z",
     "shell.execute_reply.started": "2024-01-24T06:32:36.690614Z"
    },
    "tags": []
   },
   "outputs": [
    {
     "data": {
      "application/vnd.jupyter.widget-view+json": {
       "model_id": "4ca1b5f6454c48498a00dcff635f2289",
       "version_major": 2,
       "version_minor": 0
      },
      "text/plain": [
       "VBox()"
      ]
     },
     "metadata": {},
     "output_type": "display_data"
    },
    {
     "data": {
      "application/vnd.jupyter.widget-view+json": {
       "model_id": "",
       "version_major": 2,
       "version_minor": 0
      },
      "text/plain": [
       "FloatProgress(value=0.0, bar_style='info', description='Progress:', layout=Layout(height='25px', width='50%'),…"
      ]
     },
     "metadata": {},
     "output_type": "display_data"
    },
    {
     "name": "stdout",
     "output_type": "stream",
     "text": [
      "DataFrame[]"
     ]
    }
   ],
   "source": [
    "spark.sql(f\"\"\"ALTER TABLE {cow_table} SET TBLPROPERTIES (\n",
    " 'write.delete.mode'='copy-on-write',\n",
    " 'write.update.mode'='copy-on-write',\n",
    " 'write.merge.mode'='copy-on-write'\n",
    ")\"\"\")"
   ]
  },
  {
   "cell_type": "code",
   "execution_count": 15,
   "id": "57b99277-8132-48d3-93d8-e156eace1f93",
   "metadata": {
    "execution": {
     "iopub.execute_input": "2024-01-24T06:32:39.095946Z",
     "iopub.status.busy": "2024-01-24T06:32:39.095674Z",
     "iopub.status.idle": "2024-01-24T06:32:39.887685Z",
     "shell.execute_reply": "2024-01-24T06:32:39.886765Z",
     "shell.execute_reply.started": "2024-01-24T06:32:39.095916Z"
    },
    "tags": []
   },
   "outputs": [
    {
     "data": {
      "application/vnd.jupyter.widget-view+json": {
       "model_id": "3b2598a44abd4ce4832e711039f35343",
       "version_major": 2,
       "version_minor": 0
      },
      "text/plain": [
       "VBox()"
      ]
     },
     "metadata": {},
     "output_type": "display_data"
    },
    {
     "data": {
      "application/vnd.jupyter.widget-view+json": {
       "model_id": "",
       "version_major": 2,
       "version_minor": 0
      },
      "text/plain": [
       "FloatProgress(value=0.0, bar_style='info', description='Progress:', layout=Layout(height='25px', width='50%'),…"
      ]
     },
     "metadata": {},
     "output_type": "display_data"
    },
    {
     "name": "stdout",
     "output_type": "stream",
     "text": [
      "DataFrame[]"
     ]
    }
   ],
   "source": [
    "spark.sql(f\"\"\"ALTER TABLE {mor_table} SET TBLPROPERTIES (\n",
    " 'write.delete.mode'='merge-on-read',\n",
    " 'write.update.mode'='merge-on-read',\n",
    " 'write.merge.mode'='merge-on-read'\n",
    ")\"\"\")"
   ]
  },
  {
   "cell_type": "markdown",
   "id": "3c3795b0-496b-493b-868e-c5ec5d12d0fb",
   "metadata": {
    "execution": {
     "iopub.execute_input": "2024-01-21T08:56:00.685029Z",
     "iopub.status.busy": "2024-01-21T08:56:00.684768Z",
     "iopub.status.idle": "2024-01-21T08:56:01.465293Z",
     "shell.execute_reply": "2024-01-21T08:56:01.464451Z",
     "shell.execute_reply.started": "2024-01-21T08:56:00.684999Z"
    },
    "tags": []
   },
   "source": [
    "## Performing delete operation"
   ]
  },
  {
   "cell_type": "code",
   "execution_count": 16,
   "id": "534e9814-b890-4ad0-b801-8d05c70eb596",
   "metadata": {
    "execution": {
     "iopub.execute_input": "2024-01-24T06:32:48.159033Z",
     "iopub.status.busy": "2024-01-24T06:32:48.158744Z",
     "iopub.status.idle": "2024-01-24T06:32:59.535053Z",
     "shell.execute_reply": "2024-01-24T06:32:59.534135Z",
     "shell.execute_reply.started": "2024-01-24T06:32:48.159001Z"
    },
    "tags": []
   },
   "outputs": [
    {
     "data": {
      "application/vnd.jupyter.widget-view+json": {
       "model_id": "26935b2f2bc84cdf8b53b9bd5dd56abe",
       "version_major": 2,
       "version_minor": 0
      },
      "text/plain": [
       "VBox()"
      ]
     },
     "metadata": {},
     "output_type": "display_data"
    },
    {
     "data": {
      "application/vnd.jupyter.widget-view+json": {
       "model_id": "",
       "version_major": 2,
       "version_minor": 0
      },
      "text/plain": [
       "FloatProgress(value=0.0, bar_style='info', description='Progress:', layout=Layout(height='25px', width='50%'),…"
      ]
     },
     "metadata": {},
     "output_type": "display_data"
    },
    {
     "name": "stdout",
     "output_type": "stream",
     "text": [
      "DataFrame[]"
     ]
    }
   ],
   "source": [
    "# from cow table\n",
    "spark.sql(f\"DELETE from {cow_table} where VendorId=6\") # took 11.38secs"
   ]
  },
  {
   "cell_type": "code",
   "execution_count": 17,
   "id": "fe6e241c-e7e0-4c69-b0b8-c0821f121463",
   "metadata": {
    "execution": {
     "iopub.execute_input": "2024-01-24T06:33:03.077456Z",
     "iopub.status.busy": "2024-01-24T06:33:03.077177Z",
     "iopub.status.idle": "2024-01-24T06:33:05.401408Z",
     "shell.execute_reply": "2024-01-24T06:33:05.400161Z",
     "shell.execute_reply.started": "2024-01-24T06:33:03.077425Z"
    },
    "tags": []
   },
   "outputs": [
    {
     "data": {
      "application/vnd.jupyter.widget-view+json": {
       "model_id": "9653fe48786d400cbc636d55c32fc875",
       "version_major": 2,
       "version_minor": 0
      },
      "text/plain": [
       "VBox()"
      ]
     },
     "metadata": {},
     "output_type": "display_data"
    },
    {
     "data": {
      "application/vnd.jupyter.widget-view+json": {
       "model_id": "",
       "version_major": 2,
       "version_minor": 0
      },
      "text/plain": [
       "FloatProgress(value=0.0, bar_style='info', description='Progress:', layout=Layout(height='25px', width='50%'),…"
      ]
     },
     "metadata": {},
     "output_type": "display_data"
    },
    {
     "name": "stdout",
     "output_type": "stream",
     "text": [
      "DataFrame[]"
     ]
    }
   ],
   "source": [
    "# from mor table\n",
    "spark.sql(f\"DELETE from {mor_table} where VendorId=6\") # took 2.32secs"
   ]
  },
  {
   "cell_type": "markdown",
   "id": "d6378bc3",
   "metadata": {},
   "source": [
    "### Analyzing COW Table for rewritten data files"
   ]
  },
  {
   "cell_type": "code",
   "execution_count": 18,
   "id": "35e72393-c740-4d56-ad74-18b22b23495b",
   "metadata": {
    "execution": {
     "iopub.execute_input": "2024-01-24T06:34:01.629165Z",
     "iopub.status.busy": "2024-01-24T06:34:01.628882Z",
     "iopub.status.idle": "2024-01-24T06:34:02.412478Z",
     "shell.execute_reply": "2024-01-24T06:34:02.411652Z",
     "shell.execute_reply.started": "2024-01-24T06:34:01.629133Z"
    },
    "tags": []
   },
   "outputs": [
    {
     "data": {
      "application/vnd.jupyter.widget-view+json": {
       "model_id": "49c0b4382920447e8c944f0ceace181d",
       "version_major": 2,
       "version_minor": 0
      },
      "text/plain": [
       "VBox()"
      ]
     },
     "metadata": {},
     "output_type": "display_data"
    },
    {
     "data": {
      "application/vnd.jupyter.widget-view+json": {
       "model_id": "",
       "version_major": 2,
       "version_minor": 0
      },
      "text/plain": [
       "FloatProgress(value=0.0, bar_style='info', description='Progress:', layout=Layout(height='25px', width='50%'),…"
      ]
     },
     "metadata": {},
     "output_type": "display_data"
    },
    {
     "name": "stdout",
     "output_type": "stream",
     "text": [
      "+-----------------------+-------------------+-------------------+---------+--------------------------------------------------------------------------------------------------------------------------------------+---------------------------------------------------------------------------------------------------------------------------------------------------------------------------------------------------------------------------------------------------------------------------------------------------------------------------------------------------------------------------------------------------------------------+\n",
      "|committed_at           |snapshot_id        |parent_id          |operation|manifest_list                                                                                                                         |summary                                                                                                                                                                                                                                                                                                                                                                                                              |\n",
      "+-----------------------+-------------------+-------------------+---------+--------------------------------------------------------------------------------------------------------------------------------------+---------------------------------------------------------------------------------------------------------------------------------------------------------------------------------------------------------------------------------------------------------------------------------------------------------------------------------------------------------------------------------------------------------------------+\n",
      "|2024-01-24 06:32:57.435|1999244325536185772|6487859664670042782|overwrite|s3://aws-blog-post-bucket/blogs_db/yellow_taxi_trips_cow/metadata/snap-1999244325536185772-1-927d13a0-7032-42d5-84db-12604090ecc0.avro|{spark.app.id -> application_1706077363286_0001, added-data-files -> 2, deleted-data-files -> 2, added-records -> 1124773, deleted-records -> 1126127, added-files-size -> 23896997, removed-files-size -> 23964253, changed-partition-count -> 2, total-records -> 6367653, total-files-size -> 132159228, total-data-files -> 7, total-delete-files -> 0, total-position-deletes -> 0, total-equality-deletes -> 0}|\n",
      "|2024-01-24 06:29:54.142|6487859664670042782|null               |append   |s3://aws-blog-post-bucket/blogs_db/yellow_taxi_trips_cow/metadata/snap-6487859664670042782-1-94817dc8-e5f0-42fe-b14c-c6e72a4f3c39.avro|{spark.app.id -> application_1706077363286_0001, added-data-files -> 7, added-records -> 6369007, added-files-size -> 132226484, changed-partition-count -> 2, total-records -> 6369007, total-files-size -> 132226484, total-data-files -> 7, total-delete-files -> 0, total-position-deletes -> 0, total-equality-deletes -> 0}                                                                                    |\n",
      "+-----------------------+-------------------+-------------------+---------+--------------------------------------------------------------------------------------------------------------------------------------+---------------------------------------------------------------------------------------------------------------------------------------------------------------------------------------------------------------------------------------------------------------------------------------------------------------------------------------------------------------------------------------------------------------------+"
     ]
    }
   ],
   "source": [
    "spark.sql(f\"select * from {cow_table}.snapshots\").orderBy(col(\"committed_at\").desc()).show(truncate=False)"
   ]
  },
  {
   "cell_type": "code",
   "execution_count": 26,
   "id": "8ce3bcf4-4340-486d-9713-934ec425bb0f",
   "metadata": {
    "execution": {
     "iopub.execute_input": "2024-01-24T06:46:29.509368Z",
     "iopub.status.busy": "2024-01-24T06:46:29.509094Z",
     "iopub.status.idle": "2024-01-24T06:46:38.835591Z",
     "shell.execute_reply": "2024-01-24T06:46:38.834432Z",
     "shell.execute_reply.started": "2024-01-24T06:46:29.509336Z"
    },
    "tags": []
   },
   "outputs": [
    {
     "data": {
      "application/vnd.jupyter.widget-view+json": {
       "model_id": "26ae3eb71c794527b5e43874d7c94a4b",
       "version_major": 2,
       "version_minor": 0
      },
      "text/plain": [
       "VBox()"
      ]
     },
     "metadata": {},
     "output_type": "display_data"
    },
    {
     "data": {
      "application/vnd.jupyter.widget-view+json": {
       "model_id": "",
       "version_major": 2,
       "version_minor": 0
      },
      "text/plain": [
       "FloatProgress(value=0.0, bar_style='info', description='Progress:', layout=Layout(height='25px', width='50%'),…"
      ]
     },
     "metadata": {},
     "output_type": "display_data"
    },
    {
     "name": "stdout",
     "output_type": "stream",
     "text": [
      "+-------+--------------------------------------------------------------------------------------------------------------+------+-----------------+-------------------+----------------------+-------------------------+------------------------+------------------------+---------------------------+--------------------------+\n",
      "|content|path                                                                                                          |length|partition_spec_id|added_snapshot_id  |added_data_files_count|existing_data_files_count|deleted_data_files_count|added_delete_files_count|existing_delete_files_count|deleted_delete_files_count|\n",
      "+-------+--------------------------------------------------------------------------------------------------------------+------+-----------------+-------------------+----------------------+-------------------------+------------------------+------------------------+---------------------------+--------------------------+\n",
      "|0      |s3://aws-blog-post-bucket/blogs_db/yellow_taxi_trips_cow/metadata/927d13a0-7032-42d5-84db-12604090ecc0-m1.avro|9009  |0                |1999244325536185772|2                     |0                        |0                       |0                       |0                          |0                         |\n",
      "|0      |s3://aws-blog-post-bucket/blogs_db/yellow_taxi_trips_cow/metadata/927d13a0-7032-42d5-84db-12604090ecc0-m0.avro|10054 |0                |1999244325536185772|0                     |5                        |2                       |0                       |0                          |0                         |\n",
      "+-------+--------------------------------------------------------------------------------------------------------------+------+-----------------+-------------------+----------------------+-------------------------+------------------------+------------------------+---------------------------+--------------------------+"
     ]
    }
   ],
   "source": [
    "latest_snapshot_id = 1999244325536185772\n",
    "spark.sql(f\"select * from {cow_table}.manifests where added_snapshot_id = {latest_snapshot_id}\").drop(\"partition_summaries\").show(truncate=False)"
   ]
  },
  {
   "cell_type": "markdown",
   "id": "b289087b",
   "metadata": {},
   "source": [
    "Things to look for in above output:\n",
    "- `added_data_files_count` and `delete_data_files_count` show that files are rewritten.\n",
    "- `deleted_data_files_count` shows that there are no Delete Files has been added."
   ]
  },
  {
   "cell_type": "code",
   "execution_count": 20,
   "id": "2794ebf6-5653-424e-80b1-e738a1536821",
   "metadata": {
    "execution": {
     "iopub.execute_input": "2024-01-24T06:36:01.606102Z",
     "iopub.status.busy": "2024-01-24T06:36:01.605808Z",
     "iopub.status.idle": "2024-01-24T06:36:02.894712Z",
     "shell.execute_reply": "2024-01-24T06:36:02.893830Z",
     "shell.execute_reply.started": "2024-01-24T06:36:01.606067Z"
    },
    "tags": []
   },
   "outputs": [
    {
     "data": {
      "application/vnd.jupyter.widget-view+json": {
       "model_id": "c36336822d444c39b84037f8f7b09338",
       "version_major": 2,
       "version_minor": 0
      },
      "text/plain": [
       "VBox()"
      ]
     },
     "metadata": {},
     "output_type": "display_data"
    },
    {
     "data": {
      "application/vnd.jupyter.widget-view+json": {
       "model_id": "",
       "version_major": 2,
       "version_minor": 0
      },
      "text/plain": [
       "FloatProgress(value=0.0, bar_style='info', description='Progress:', layout=Layout(height='25px', width='50%'),…"
      ]
     },
     "metadata": {},
     "output_type": "display_data"
    },
    {
     "name": "stdout",
     "output_type": "stream",
     "text": [
      "+-------+-----------+--------------------------------------------------------------------------------------------------------------------------------------------+------------+\n",
      "|content|file_format|file_path                                                                                                                                   |record_count|\n",
      "+-------+-----------+--------------------------------------------------------------------------------------------------------------------------------------------+------------+\n",
      "|0      |PARQUET    |s3://aws-blog-post-bucket/blogs_db/yellow_taxi_trips_cow/data/year=2023/month=10/00000-67-2c32246d-243a-4a86-bed8-114b66df5a7c-00001.parquet|376055      |\n",
      "|0      |PARQUET    |s3://aws-blog-post-bucket/blogs_db/yellow_taxi_trips_cow/data/year=2023/month=9/00001-68-2c32246d-243a-4a86-bed8-114b66df5a7c-00001.parquet |748718      |\n",
      "|0      |PARQUET    |s3://aws-blog-post-bucket/blogs_db/yellow_taxi_trips_cow/data/year=2023/month=9/00000-32-f4235c17-4534-409a-95eb-e417dc4cb7dd-00001.parquet |1048576     |\n",
      "|0      |PARQUET    |s3://aws-blog-post-bucket/blogs_db/yellow_taxi_trips_cow/data/year=2023/month=9/00002-34-f4235c17-4534-409a-95eb-e417dc4cb7dd-00001.parquet |1048576     |\n",
      "|0      |PARQUET    |s3://aws-blog-post-bucket/blogs_db/yellow_taxi_trips_cow/data/year=2023/month=10/00004-36-f4235c17-4534-409a-95eb-e417dc4cb7dd-00001.parquet|1048576     |\n",
      "|0      |PARQUET    |s3://aws-blog-post-bucket/blogs_db/yellow_taxi_trips_cow/data/year=2023/month=10/00005-37-f4235c17-4534-409a-95eb-e417dc4cb7dd-00001.parquet|1048576     |\n",
      "|0      |PARQUET    |s3://aws-blog-post-bucket/blogs_db/yellow_taxi_trips_cow/data/year=2023/month=10/00006-38-f4235c17-4534-409a-95eb-e417dc4cb7dd-00001.parquet|1048576     |\n",
      "+-------+-----------+--------------------------------------------------------------------------------------------------------------------------------------------+------------+"
     ]
    }
   ],
   "source": [
    "## Analyzing tables after delete operation\n",
    "spark.sql(f\"select content, file_format, file_path, record_count from {cow_table}.files\").show(truncate=False)"
   ]
  },
  {
   "cell_type": "markdown",
   "id": "31c2ad8f",
   "metadata": {},
   "source": [
    "In `files` metadata table, `content` column value as:\n",
    "- `0` represents a Data File.\n",
    "- `1` represents a Positional Delete File.\n",
    "- `2` represents a Equality Delete File.\n",
    "\n",
    "`content` column in above output shows as `0`. That shows there are only data files present in the table when the delete operation happened with COW approach."
   ]
  },
  {
   "cell_type": "markdown",
   "id": "d8f56d88-8b52-4cdc-a9b1-5d5dd253d4c2",
   "metadata": {},
   "source": [
    "## Analyzing MOR table"
   ]
  },
  {
   "cell_type": "code",
   "execution_count": 21,
   "id": "02311673-8d0e-4365-b44c-45946f73c736",
   "metadata": {
    "execution": {
     "iopub.execute_input": "2024-01-24T06:37:25.959400Z",
     "iopub.status.busy": "2024-01-24T06:37:25.959126Z",
     "iopub.status.idle": "2024-01-24T06:37:35.289760Z",
     "shell.execute_reply": "2024-01-24T06:37:35.288945Z",
     "shell.execute_reply.started": "2024-01-24T06:37:25.959370Z"
    },
    "tags": []
   },
   "outputs": [
    {
     "data": {
      "application/vnd.jupyter.widget-view+json": {
       "model_id": "dfc80582d7184a84a59a8c16b0e8aad8",
       "version_major": 2,
       "version_minor": 0
      },
      "text/plain": [
       "VBox()"
      ]
     },
     "metadata": {},
     "output_type": "display_data"
    },
    {
     "data": {
      "application/vnd.jupyter.widget-view+json": {
       "model_id": "",
       "version_major": 2,
       "version_minor": 0
      },
      "text/plain": [
       "FloatProgress(value=0.0, bar_style='info', description='Progress:', layout=Layout(height='25px', width='50%'),…"
      ]
     },
     "metadata": {},
     "output_type": "display_data"
    },
    {
     "name": "stdout",
     "output_type": "stream",
     "text": [
      "+-----------------------+-------------------+-------------------+---------+--------------------------------------------------------------------------------------------------------------------------------------+-------------------------------------------------------------------------------------------------------------------------------------------------------------------------------------------------------------------------------------------------------------------------------------------------------------------------------------------------------------------------+\n",
      "|committed_at           |snapshot_id        |parent_id          |operation|manifest_list                                                                                                                         |summary                                                                                                                                                                                                                                                                                                                                                                  |\n",
      "+-----------------------+-------------------+-------------------+---------+--------------------------------------------------------------------------------------------------------------------------------------+-------------------------------------------------------------------------------------------------------------------------------------------------------------------------------------------------------------------------------------------------------------------------------------------------------------------------------------------------------------------------+\n",
      "|2024-01-24 06:33:04.833|799231277590704241 |8771378503908813917|overwrite|s3://aws-blog-post-bucket/blogs_db/yellow_taxi_trips_mor/metadata/snap-799231277590704241-1-cb68448a-3cc0-4561-8b56-0f4dfa7ffd89.avro |{spark.app.id -> application_1706077363286_0001, added-position-delete-files -> 2, added-delete-files -> 2, added-files-size -> 9284, added-position-deletes -> 1354, changed-partition-count -> 2, total-records -> 6369007, total-files-size -> 132235768, total-data-files -> 7, total-delete-files -> 2, total-position-deletes -> 1354, total-equality-deletes -> 0}|\n",
      "|2024-01-24 06:30:05.899|8771378503908813917|null               |append   |s3://aws-blog-post-bucket/blogs_db/yellow_taxi_trips_mor/metadata/snap-8771378503908813917-1-fcc81a15-06ee-49e4-b305-de553b5a224d.avro|{spark.app.id -> application_1706077363286_0001, added-data-files -> 7, added-records -> 6369007, added-files-size -> 132226484, changed-partition-count -> 2, total-records -> 6369007, total-files-size -> 132226484, total-data-files -> 7, total-delete-files -> 0, total-position-deletes -> 0, total-equality-deletes -> 0}                                        |\n",
      "+-----------------------+-------------------+-------------------+---------+--------------------------------------------------------------------------------------------------------------------------------------+-------------------------------------------------------------------------------------------------------------------------------------------------------------------------------------------------------------------------------------------------------------------------------------------------------------------------------------------------------------------------+"
     ]
    }
   ],
   "source": [
    "spark.sql(f\"select * from {mor_table}.snapshots\").orderBy(col(\"committed_at\").desc()).show(truncate=False)"
   ]
  },
  {
   "cell_type": "code",
   "execution_count": 22,
   "id": "7edf458c-339b-4253-9e34-9ce2c800f755",
   "metadata": {
    "execution": {
     "iopub.execute_input": "2024-01-24T06:38:22.953443Z",
     "iopub.status.busy": "2024-01-24T06:38:22.953170Z",
     "iopub.status.idle": "2024-01-24T06:38:23.733118Z",
     "shell.execute_reply": "2024-01-24T06:38:23.732200Z",
     "shell.execute_reply.started": "2024-01-24T06:38:22.953412Z"
    },
    "tags": []
   },
   "outputs": [
    {
     "data": {
      "application/vnd.jupyter.widget-view+json": {
       "model_id": "b469afc6f21a470185bb882dad555e8c",
       "version_major": 2,
       "version_minor": 0
      },
      "text/plain": [
       "VBox()"
      ]
     },
     "metadata": {},
     "output_type": "display_data"
    },
    {
     "data": {
      "application/vnd.jupyter.widget-view+json": {
       "model_id": "",
       "version_major": 2,
       "version_minor": 0
      },
      "text/plain": [
       "FloatProgress(value=0.0, bar_style='info', description='Progress:', layout=Layout(height='25px', width='50%'),…"
      ]
     },
     "metadata": {},
     "output_type": "display_data"
    },
    {
     "name": "stdout",
     "output_type": "stream",
     "text": [
      "+-------+--------------------------------------------------------------------------------------------------------------+------+-----------------+------------------+----------------------+-------------------------+------------------------+------------------------+---------------------------+--------------------------+---------------------------------------------------+\n",
      "|content|path                                                                                                          |length|partition_spec_id|added_snapshot_id |added_data_files_count|existing_data_files_count|deleted_data_files_count|added_delete_files_count|existing_delete_files_count|deleted_delete_files_count|partition_summaries                                |\n",
      "+-------+--------------------------------------------------------------------------------------------------------------+------+-----------------+------------------+----------------------+-------------------------+------------------------+------------------------+---------------------------+--------------------------+---------------------------------------------------+\n",
      "|1      |s3://aws-blog-post-bucket/blogs_db/yellow_taxi_trips_mor/metadata/cb68448a-3cc0-4561-8b56-0f4dfa7ffd89-m0.avro|8464  |0                |799231277590704241|0                     |0                        |0                       |2                       |0                          |0                         |[{false, false, 2023, 2023}, {false, false, 9, 10}]|\n",
      "+-------+--------------------------------------------------------------------------------------------------------------+------+-----------------+------------------+----------------------+-------------------------+------------------------+------------------------+---------------------------+--------------------------+---------------------------------------------------+"
     ]
    }
   ],
   "source": [
    "latest_snapshot_id = 799231277590704241\n",
    "spark.sql(f\"select * from {mor_table}.manifests where added_snapshot_id = {latest_snapshot_id}\").show(truncate=False)"
   ]
  },
  {
   "cell_type": "markdown",
   "id": "858f5475",
   "metadata": {},
   "source": [
    "Only Delete File is added in case of DELETE operation.\n",
    "\n",
    "`added_delete_files_count` = `2` can be seen in above table."
   ]
  },
  {
   "cell_type": "code",
   "execution_count": 23,
   "id": "d5fd8b55-f207-4f15-aa13-92a75f1e4700",
   "metadata": {
    "execution": {
     "iopub.execute_input": "2024-01-24T06:38:48.196923Z",
     "iopub.status.busy": "2024-01-24T06:38:48.196631Z",
     "iopub.status.idle": "2024-01-24T06:38:50.524109Z",
     "shell.execute_reply": "2024-01-24T06:38:50.522983Z",
     "shell.execute_reply.started": "2024-01-24T06:38:48.196891Z"
    },
    "tags": []
   },
   "outputs": [
    {
     "data": {
      "application/vnd.jupyter.widget-view+json": {
       "model_id": "a1b1dba7f0bf470489ec1cdc7781b125",
       "version_major": 2,
       "version_minor": 0
      },
      "text/plain": [
       "VBox()"
      ]
     },
     "metadata": {},
     "output_type": "display_data"
    },
    {
     "data": {
      "application/vnd.jupyter.widget-view+json": {
       "model_id": "",
       "version_major": 2,
       "version_minor": 0
      },
      "text/plain": [
       "FloatProgress(value=0.0, bar_style='info', description='Progress:', layout=Layout(height='25px', width='50%'),…"
      ]
     },
     "metadata": {},
     "output_type": "display_data"
    },
    {
     "name": "stdout",
     "output_type": "stream",
     "text": [
      "+-------+-----------+----------------------------------------------------------------------------------------------------------------------------------------------------+------------+\n",
      "|content|file_format|file_path                                                                                                                                           |record_count|\n",
      "+-------+-----------+----------------------------------------------------------------------------------------------------------------------------------------------------+------------+\n",
      "|0      |PARQUET    |s3://aws-blog-post-bucket/blogs_db/yellow_taxi_trips_mor/data/year=2023/month=9/00001-41-131e5ffa-a9ce-4b67-96d7-f49cae976d4d-00001.parquet         |1048576     |\n",
      "|0      |PARQUET    |s3://aws-blog-post-bucket/blogs_db/yellow_taxi_trips_mor/data/year=2023/month=9/00004-44-131e5ffa-a9ce-4b67-96d7-f49cae976d4d-00001.parquet         |1048576     |\n",
      "|0      |PARQUET    |s3://aws-blog-post-bucket/blogs_db/yellow_taxi_trips_mor/data/year=2023/month=9/00006-46-131e5ffa-a9ce-4b67-96d7-f49cae976d4d-00001.parquet         |749570      |\n",
      "|0      |PARQUET    |s3://aws-blog-post-bucket/blogs_db/yellow_taxi_trips_mor/data/year=2023/month=10/00009-49-131e5ffa-a9ce-4b67-96d7-f49cae976d4d-00001.parquet        |1048576     |\n",
      "|0      |PARQUET    |s3://aws-blog-post-bucket/blogs_db/yellow_taxi_trips_mor/data/year=2023/month=10/00011-51-131e5ffa-a9ce-4b67-96d7-f49cae976d4d-00001.parquet        |1048576     |\n",
      "|0      |PARQUET    |s3://aws-blog-post-bucket/blogs_db/yellow_taxi_trips_mor/data/year=2023/month=10/00013-53-131e5ffa-a9ce-4b67-96d7-f49cae976d4d-00001.parquet        |1048576     |\n",
      "|0      |PARQUET    |s3://aws-blog-post-bucket/blogs_db/yellow_taxi_trips_mor/data/year=2023/month=10/00015-55-131e5ffa-a9ce-4b67-96d7-f49cae976d4d-00001.parquet        |376557      |\n",
      "|1      |PARQUET    |s3://aws-blog-post-bucket/blogs_db/yellow_taxi_trips_mor/data/year=2023/month=9/00000-71-902451fb-4e65-4817-b1ae-ea3a96f8eec8-00001-deletes.parquet |852         |\n",
      "|1      |PARQUET    |s3://aws-blog-post-bucket/blogs_db/yellow_taxi_trips_mor/data/year=2023/month=10/00000-71-902451fb-4e65-4817-b1ae-ea3a96f8eec8-00002-deletes.parquet|502         |\n",
      "+-------+-----------+----------------------------------------------------------------------------------------------------------------------------------------------------+------------+"
     ]
    }
   ],
   "source": [
    "## Analyzing MOR table\n",
    "spark.sql(f\"select content, file_format, file_path, record_count from {mor_table}.files\").show(truncate=False)"
   ]
  },
  {
   "cell_type": "markdown",
   "id": "0a31a8cf",
   "metadata": {},
   "source": [
    "`content` = `1` in above output shows the added Positional Delete Files from DELETE Operation."
   ]
  },
  {
   "cell_type": "code",
   "execution_count": 24,
   "id": "562f2dfa-e23a-4639-9829-55095711e414",
   "metadata": {
    "execution": {
     "iopub.execute_input": "2024-01-24T06:39:38.061959Z",
     "iopub.status.busy": "2024-01-24T06:39:38.061666Z",
     "iopub.status.idle": "2024-01-24T06:39:43.379808Z",
     "shell.execute_reply": "2024-01-24T06:39:43.378663Z",
     "shell.execute_reply.started": "2024-01-24T06:39:38.061926Z"
    },
    "tags": []
   },
   "outputs": [
    {
     "data": {
      "application/vnd.jupyter.widget-view+json": {
       "model_id": "d5118ae2abd44d98921541fbec809aef",
       "version_major": 2,
       "version_minor": 0
      },
      "text/plain": [
       "VBox()"
      ]
     },
     "metadata": {},
     "output_type": "display_data"
    },
    {
     "data": {
      "application/vnd.jupyter.widget-view+json": {
       "model_id": "",
       "version_major": 2,
       "version_minor": 0
      },
      "text/plain": [
       "FloatProgress(value=0.0, bar_style='info', description='Progress:', layout=Layout(height='25px', width='50%'),…"
      ]
     },
     "metadata": {},
     "output_type": "display_data"
    },
    {
     "name": "stdout",
     "output_type": "stream",
     "text": [
      "+-------------------------------------------------------------------------------------------------------------------------------------------+------+\n",
      "|file_path                                                                                                                                  |pos   |\n",
      "+-------------------------------------------------------------------------------------------------------------------------------------------+------+\n",
      "|s3://aws-blog-post-bucket/blogs_db/yellow_taxi_trips_mor/data/year=2023/month=9/00006-46-131e5ffa-a9ce-4b67-96d7-f49cae976d4d-00001.parquet|609427|\n",
      "|s3://aws-blog-post-bucket/blogs_db/yellow_taxi_trips_mor/data/year=2023/month=9/00006-46-131e5ffa-a9ce-4b67-96d7-f49cae976d4d-00001.parquet|610008|\n",
      "|s3://aws-blog-post-bucket/blogs_db/yellow_taxi_trips_mor/data/year=2023/month=9/00006-46-131e5ffa-a9ce-4b67-96d7-f49cae976d4d-00001.parquet|610045|\n",
      "|s3://aws-blog-post-bucket/blogs_db/yellow_taxi_trips_mor/data/year=2023/month=9/00006-46-131e5ffa-a9ce-4b67-96d7-f49cae976d4d-00001.parquet|610046|\n",
      "|s3://aws-blog-post-bucket/blogs_db/yellow_taxi_trips_mor/data/year=2023/month=9/00006-46-131e5ffa-a9ce-4b67-96d7-f49cae976d4d-00001.parquet|610091|\n",
      "|s3://aws-blog-post-bucket/blogs_db/yellow_taxi_trips_mor/data/year=2023/month=9/00006-46-131e5ffa-a9ce-4b67-96d7-f49cae976d4d-00001.parquet|610141|\n",
      "|s3://aws-blog-post-bucket/blogs_db/yellow_taxi_trips_mor/data/year=2023/month=9/00006-46-131e5ffa-a9ce-4b67-96d7-f49cae976d4d-00001.parquet|610142|\n",
      "|s3://aws-blog-post-bucket/blogs_db/yellow_taxi_trips_mor/data/year=2023/month=9/00006-46-131e5ffa-a9ce-4b67-96d7-f49cae976d4d-00001.parquet|610143|\n",
      "|s3://aws-blog-post-bucket/blogs_db/yellow_taxi_trips_mor/data/year=2023/month=9/00006-46-131e5ffa-a9ce-4b67-96d7-f49cae976d4d-00001.parquet|610218|\n",
      "|s3://aws-blog-post-bucket/blogs_db/yellow_taxi_trips_mor/data/year=2023/month=9/00006-46-131e5ffa-a9ce-4b67-96d7-f49cae976d4d-00001.parquet|610271|\n",
      "|s3://aws-blog-post-bucket/blogs_db/yellow_taxi_trips_mor/data/year=2023/month=9/00006-46-131e5ffa-a9ce-4b67-96d7-f49cae976d4d-00001.parquet|610281|\n",
      "|s3://aws-blog-post-bucket/blogs_db/yellow_taxi_trips_mor/data/year=2023/month=9/00006-46-131e5ffa-a9ce-4b67-96d7-f49cae976d4d-00001.parquet|610316|\n",
      "|s3://aws-blog-post-bucket/blogs_db/yellow_taxi_trips_mor/data/year=2023/month=9/00006-46-131e5ffa-a9ce-4b67-96d7-f49cae976d4d-00001.parquet|610328|\n",
      "|s3://aws-blog-post-bucket/blogs_db/yellow_taxi_trips_mor/data/year=2023/month=9/00006-46-131e5ffa-a9ce-4b67-96d7-f49cae976d4d-00001.parquet|610347|\n",
      "|s3://aws-blog-post-bucket/blogs_db/yellow_taxi_trips_mor/data/year=2023/month=9/00006-46-131e5ffa-a9ce-4b67-96d7-f49cae976d4d-00001.parquet|610397|\n",
      "|s3://aws-blog-post-bucket/blogs_db/yellow_taxi_trips_mor/data/year=2023/month=9/00006-46-131e5ffa-a9ce-4b67-96d7-f49cae976d4d-00001.parquet|610415|\n",
      "|s3://aws-blog-post-bucket/blogs_db/yellow_taxi_trips_mor/data/year=2023/month=9/00006-46-131e5ffa-a9ce-4b67-96d7-f49cae976d4d-00001.parquet|610448|\n",
      "|s3://aws-blog-post-bucket/blogs_db/yellow_taxi_trips_mor/data/year=2023/month=9/00006-46-131e5ffa-a9ce-4b67-96d7-f49cae976d4d-00001.parquet|610467|\n",
      "|s3://aws-blog-post-bucket/blogs_db/yellow_taxi_trips_mor/data/year=2023/month=9/00006-46-131e5ffa-a9ce-4b67-96d7-f49cae976d4d-00001.parquet|610490|\n",
      "|s3://aws-blog-post-bucket/blogs_db/yellow_taxi_trips_mor/data/year=2023/month=9/00006-46-131e5ffa-a9ce-4b67-96d7-f49cae976d4d-00001.parquet|610491|\n",
      "+-------------------------------------------------------------------------------------------------------------------------------------------+------+\n",
      "only showing top 20 rows"
     ]
    }
   ],
   "source": [
    "## Checking contents in delete file\n",
    "delete_file_path = \"s3://aws-blog-post-bucket/blogs_db/yellow_taxi_trips_mor/data/year=2023/month=9/00000-71-902451fb-4e65-4817-b1ae-ea3a96f8eec8-00001-deletes.parquet\"\n",
    "delete_file_df = spark.read.parquet(delete_file_path)\n",
    "delete_file_df.show(truncate=False)"
   ]
  },
  {
   "cell_type": "markdown",
   "id": "c8985cc0",
   "metadata": {},
   "source": [
    "Positional Delete Files contains the `file_path` and the exact position of the records deleted/updated from that file."
   ]
  },
  {
   "cell_type": "markdown",
   "id": "f8b44f26-08ff-41db-889b-1a90465a47f0",
   "metadata": {},
   "source": [
    "## Performing update operation"
   ]
  },
  {
   "cell_type": "markdown",
   "id": "e819675e-7c73-4b4a-8cfc-85751b1d25eb",
   "metadata": {},
   "source": [
    "### On MOR Table"
   ]
  },
  {
   "cell_type": "code",
   "execution_count": 25,
   "id": "47e446ee-2f3b-4e9e-a617-c49a2e21c7e4",
   "metadata": {
    "execution": {
     "iopub.execute_input": "2024-01-24T06:44:26.854067Z",
     "iopub.status.busy": "2024-01-24T06:44:26.853787Z",
     "iopub.status.idle": "2024-01-24T06:44:50.275927Z",
     "shell.execute_reply": "2024-01-24T06:44:50.275009Z",
     "shell.execute_reply.started": "2024-01-24T06:44:26.854035Z"
    }
   },
   "outputs": [
    {
     "data": {
      "application/vnd.jupyter.widget-view+json": {
       "model_id": "ebfc910cfcb5494eb421abbbb81e9c80",
       "version_major": 2,
       "version_minor": 0
      },
      "text/plain": [
       "VBox()"
      ]
     },
     "metadata": {},
     "output_type": "display_data"
    },
    {
     "data": {
      "application/vnd.jupyter.widget-view+json": {
       "model_id": "",
       "version_major": 2,
       "version_minor": 0
      },
      "text/plain": [
       "FloatProgress(value=0.0, bar_style='info', description='Progress:', layout=Layout(height='25px', width='50%'),…"
      ]
     },
     "metadata": {},
     "output_type": "display_data"
    },
    {
     "name": "stdout",
     "output_type": "stream",
     "text": [
      "DataFrame[]"
     ]
    }
   ],
   "source": [
    "# Performing an update operation\n",
    "spark.sql(f\"update {mor_table} set fare_amount = 0 where VendorID=2 and fare_amount < 0\") # took 23.42 secs"
   ]
  },
  {
   "cell_type": "markdown",
   "id": "e8dd68bb",
   "metadata": {},
   "source": [
    "### Analyzing metadata table after Update operation"
   ]
  },
  {
   "cell_type": "code",
   "execution_count": 28,
   "id": "40e95add-b983-4b82-8d62-a75c665f23b4",
   "metadata": {
    "execution": {
     "iopub.execute_input": "2024-01-24T06:48:48.724945Z",
     "iopub.status.busy": "2024-01-24T06:48:48.724670Z",
     "iopub.status.idle": "2024-01-24T06:48:49.517760Z",
     "shell.execute_reply": "2024-01-24T06:48:49.516235Z",
     "shell.execute_reply.started": "2024-01-24T06:48:48.724914Z"
    }
   },
   "outputs": [
    {
     "data": {
      "application/vnd.jupyter.widget-view+json": {
       "model_id": "c97098f9deb441bbb97ea5fd66f2087a",
       "version_major": 2,
       "version_minor": 0
      },
      "text/plain": [
       "VBox()"
      ]
     },
     "metadata": {},
     "output_type": "display_data"
    },
    {
     "data": {
      "application/vnd.jupyter.widget-view+json": {
       "model_id": "",
       "version_major": 2,
       "version_minor": 0
      },
      "text/plain": [
       "FloatProgress(value=0.0, bar_style='info', description='Progress:', layout=Layout(height='25px', width='50%'),…"
      ]
     },
     "metadata": {},
     "output_type": "display_data"
    },
    {
     "name": "stdout",
     "output_type": "stream",
     "text": [
      "+-----------------------+-------------------+-------------------+---------+--------------------------------------------------------------------------------------------------------------------------------------+-----------------------------------------------------------------------------------------------------------------------------------------------------------------------------------------------------------------------------------------------------------------------------------------------------------------------------------------------------------------------------------------------------------------------------+\n",
      "|committed_at           |snapshot_id        |parent_id          |operation|manifest_list                                                                                                                         |summary                                                                                                                                                                                                                                                                                                                                                                                                                      |\n",
      "+-----------------------+-------------------+-------------------+---------+--------------------------------------------------------------------------------------------------------------------------------------+-----------------------------------------------------------------------------------------------------------------------------------------------------------------------------------------------------------------------------------------------------------------------------------------------------------------------------------------------------------------------------------------------------------------------------+\n",
      "|2024-01-24 06:44:48.175|2049488298809185761|799231277590704241 |overwrite|s3://aws-blog-post-bucket/blogs_db/yellow_taxi_trips_mor/metadata/snap-2049488298809185761-1-38007485-31ae-443d-b10a-e3eecdbc27ba.avro|{spark.app.id -> application_1706077363286_0001, added-data-files -> 2, added-position-delete-files -> 2, added-delete-files -> 2, added-records -> 66661, added-files-size -> 1682054, added-position-deletes -> 66661, changed-partition-count -> 2, total-records -> 6435668, total-files-size -> 133917822, total-data-files -> 9, total-delete-files -> 4, total-position-deletes -> 68015, total-equality-deletes -> 0}|\n",
      "|2024-01-24 06:33:04.833|799231277590704241 |8771378503908813917|overwrite|s3://aws-blog-post-bucket/blogs_db/yellow_taxi_trips_mor/metadata/snap-799231277590704241-1-cb68448a-3cc0-4561-8b56-0f4dfa7ffd89.avro |{spark.app.id -> application_1706077363286_0001, added-position-delete-files -> 2, added-delete-files -> 2, added-files-size -> 9284, added-position-deletes -> 1354, changed-partition-count -> 2, total-records -> 6369007, total-files-size -> 132235768, total-data-files -> 7, total-delete-files -> 2, total-position-deletes -> 1354, total-equality-deletes -> 0}                                                    |\n",
      "|2024-01-24 06:30:05.899|8771378503908813917|null               |append   |s3://aws-blog-post-bucket/blogs_db/yellow_taxi_trips_mor/metadata/snap-8771378503908813917-1-fcc81a15-06ee-49e4-b305-de553b5a224d.avro|{spark.app.id -> application_1706077363286_0001, added-data-files -> 7, added-records -> 6369007, added-files-size -> 132226484, changed-partition-count -> 2, total-records -> 6369007, total-files-size -> 132226484, total-data-files -> 7, total-delete-files -> 0, total-position-deletes -> 0, total-equality-deletes -> 0}                                                                                            |\n",
      "+-----------------------+-------------------+-------------------+---------+--------------------------------------------------------------------------------------------------------------------------------------+-----------------------------------------------------------------------------------------------------------------------------------------------------------------------------------------------------------------------------------------------------------------------------------------------------------------------------------------------------------------------------------------------------------------------------+"
     ]
    }
   ],
   "source": [
    "# Getting the recent snapshot_id for looking into manifest metadata table.\n",
    "spark.sql(f\"select * from {mor_table}.snapshots\").orderBy(col(\"committed_at\").desc()).show(truncate=False)"
   ]
  },
  {
   "cell_type": "code",
   "execution_count": 29,
   "id": "12e8aa0f-e55b-4798-9531-dc787570cb4e",
   "metadata": {
    "execution": {
     "iopub.execute_input": "2024-01-24T06:49:49.225384Z",
     "iopub.status.busy": "2024-01-24T06:49:49.224973Z",
     "iopub.status.idle": "2024-01-24T06:49:58.567762Z",
     "shell.execute_reply": "2024-01-24T06:49:58.566884Z",
     "shell.execute_reply.started": "2024-01-24T06:49:49.225335Z"
    }
   },
   "outputs": [
    {
     "data": {
      "application/vnd.jupyter.widget-view+json": {
       "model_id": "9a1b8e0b067241dd80e07718ed32958d",
       "version_major": 2,
       "version_minor": 0
      },
      "text/plain": [
       "VBox()"
      ]
     },
     "metadata": {},
     "output_type": "display_data"
    },
    {
     "data": {
      "application/vnd.jupyter.widget-view+json": {
       "model_id": "",
       "version_major": 2,
       "version_minor": 0
      },
      "text/plain": [
       "FloatProgress(value=0.0, bar_style='info', description='Progress:', layout=Layout(height='25px', width='50%'),…"
      ]
     },
     "metadata": {},
     "output_type": "display_data"
    },
    {
     "name": "stdout",
     "output_type": "stream",
     "text": [
      "+-------+--------------------------------------------------------------------------------------------------------------+------+-----------------+-------------------+----------------------+-------------------------+------------------------+------------------------+---------------------------+--------------------------+\n",
      "|content|path                                                                                                          |length|partition_spec_id|added_snapshot_id  |added_data_files_count|existing_data_files_count|deleted_data_files_count|added_delete_files_count|existing_delete_files_count|deleted_delete_files_count|\n",
      "+-------+--------------------------------------------------------------------------------------------------------------+------+-----------------+-------------------+----------------------+-------------------------+------------------------+------------------------+---------------------------+--------------------------+\n",
      "|0      |s3://aws-blog-post-bucket/blogs_db/yellow_taxi_trips_mor/metadata/38007485-31ae-443d-b10a-e3eecdbc27ba-m0.avro|8943  |0                |2049488298809185761|2                     |0                        |0                       |0                       |0                          |0                         |\n",
      "|1      |s3://aws-blog-post-bucket/blogs_db/yellow_taxi_trips_mor/metadata/38007485-31ae-443d-b10a-e3eecdbc27ba-m1.avro|8379  |0                |2049488298809185761|0                     |0                        |0                       |2                       |0                          |0                         |\n",
      "+-------+--------------------------------------------------------------------------------------------------------------+------+-----------------+-------------------+----------------------+-------------------------+------------------------+------------------------+---------------------------+--------------------------+"
     ]
    }
   ],
   "source": [
    "latest_snapshot_id = 2049488298809185761\n",
    "spark.sql(f\"select * from {mor_table}.manifests\").drop(\"partition_summaries\").filter(col(\"added_snapshot_id\") == latest_snapshot_id).show(truncate=False)"
   ]
  },
  {
   "cell_type": "markdown",
   "id": "35f91ab8",
   "metadata": {},
   "source": [
    "`content` in `manifest` metadata table:\n",
    "- `0` manifest file tracking the data files.\n",
    "- `1` manifest file tracking the delete files.\n",
    "\n",
    "In output above, look at the `added_data_files_count` and `added_delete_files_count` column values, this shows 2 new data files are added which contains the records with updated value and 2 delete files are added that contains the file_path and position of the updated record."
   ]
  },
  {
   "cell_type": "code",
   "execution_count": 30,
   "id": "6f7b51e9-fe58-4c3e-aead-f962827bf5b3",
   "metadata": {
    "execution": {
     "iopub.execute_input": "2024-01-24T06:50:23.203387Z",
     "iopub.status.busy": "2024-01-24T06:50:23.203070Z",
     "iopub.status.idle": "2024-01-24T06:50:25.547481Z",
     "shell.execute_reply": "2024-01-24T06:50:25.545990Z",
     "shell.execute_reply.started": "2024-01-24T06:50:23.203337Z"
    }
   },
   "outputs": [
    {
     "data": {
      "application/vnd.jupyter.widget-view+json": {
       "model_id": "b9b70574ddfe478bbdeba21deb534f21",
       "version_major": 2,
       "version_minor": 0
      },
      "text/plain": [
       "VBox()"
      ]
     },
     "metadata": {},
     "output_type": "display_data"
    },
    {
     "data": {
      "application/vnd.jupyter.widget-view+json": {
       "model_id": "",
       "version_major": 2,
       "version_minor": 0
      },
      "text/plain": [
       "FloatProgress(value=0.0, bar_style='info', description='Progress:', layout=Layout(height='25px', width='50%'),…"
      ]
     },
     "metadata": {},
     "output_type": "display_data"
    },
    {
     "name": "stdout",
     "output_type": "stream",
     "text": [
      "+-------+----------------------------------------------------------------------------------------------------------------------------------------------------+-----------+----------+------------+\n",
      "|content|file_path                                                                                                                                           |file_format|partition |record_count|\n",
      "+-------+----------------------------------------------------------------------------------------------------------------------------------------------------+-----------+----------+------------+\n",
      "|0      |s3://aws-blog-post-bucket/blogs_db/yellow_taxi_trips_mor/data/year=2023/month=10/00001-88-630c6981-9422-40c3-acbf-2efeccf058e7-00001.parquet        |PARQUET    |{2023, 10}|37099       |\n",
      "|0      |s3://aws-blog-post-bucket/blogs_db/yellow_taxi_trips_mor/data/year=2023/month=9/00002-89-630c6981-9422-40c3-acbf-2efeccf058e7-00001.parquet         |PARQUET    |{2023, 9} |29562       |\n",
      "|0      |s3://aws-blog-post-bucket/blogs_db/yellow_taxi_trips_mor/data/year=2023/month=9/00001-41-131e5ffa-a9ce-4b67-96d7-f49cae976d4d-00001.parquet         |PARQUET    |{2023, 9} |1048576     |\n",
      "|0      |s3://aws-blog-post-bucket/blogs_db/yellow_taxi_trips_mor/data/year=2023/month=9/00004-44-131e5ffa-a9ce-4b67-96d7-f49cae976d4d-00001.parquet         |PARQUET    |{2023, 9} |1048576     |\n",
      "|0      |s3://aws-blog-post-bucket/blogs_db/yellow_taxi_trips_mor/data/year=2023/month=9/00006-46-131e5ffa-a9ce-4b67-96d7-f49cae976d4d-00001.parquet         |PARQUET    |{2023, 9} |749570      |\n",
      "|0      |s3://aws-blog-post-bucket/blogs_db/yellow_taxi_trips_mor/data/year=2023/month=10/00009-49-131e5ffa-a9ce-4b67-96d7-f49cae976d4d-00001.parquet        |PARQUET    |{2023, 10}|1048576     |\n",
      "|0      |s3://aws-blog-post-bucket/blogs_db/yellow_taxi_trips_mor/data/year=2023/month=10/00011-51-131e5ffa-a9ce-4b67-96d7-f49cae976d4d-00001.parquet        |PARQUET    |{2023, 10}|1048576     |\n",
      "|0      |s3://aws-blog-post-bucket/blogs_db/yellow_taxi_trips_mor/data/year=2023/month=10/00013-53-131e5ffa-a9ce-4b67-96d7-f49cae976d4d-00001.parquet        |PARQUET    |{2023, 10}|1048576     |\n",
      "|0      |s3://aws-blog-post-bucket/blogs_db/yellow_taxi_trips_mor/data/year=2023/month=10/00015-55-131e5ffa-a9ce-4b67-96d7-f49cae976d4d-00001.parquet        |PARQUET    |{2023, 10}|376557      |\n",
      "|1      |s3://aws-blog-post-bucket/blogs_db/yellow_taxi_trips_mor/data/year=2023/month=10/00000-87-630c6981-9422-40c3-acbf-2efeccf058e7-00001-deletes.parquet|PARQUET    |{2023, 10}|37099       |\n",
      "|1      |s3://aws-blog-post-bucket/blogs_db/yellow_taxi_trips_mor/data/year=2023/month=9/00003-90-630c6981-9422-40c3-acbf-2efeccf058e7-00001-deletes.parquet |PARQUET    |{2023, 9} |29562       |\n",
      "|1      |s3://aws-blog-post-bucket/blogs_db/yellow_taxi_trips_mor/data/year=2023/month=9/00000-71-902451fb-4e65-4817-b1ae-ea3a96f8eec8-00001-deletes.parquet |PARQUET    |{2023, 9} |852         |\n",
      "|1      |s3://aws-blog-post-bucket/blogs_db/yellow_taxi_trips_mor/data/year=2023/month=10/00000-71-902451fb-4e65-4817-b1ae-ea3a96f8eec8-00002-deletes.parquet|PARQUET    |{2023, 10}|502         |\n",
      "+-------+----------------------------------------------------------------------------------------------------------------------------------------------------+-----------+----------+------------+"
     ]
    }
   ],
   "source": [
    "# Looking into files metadata table after UPDATE operation\n",
    "spark.sql(f\"select content, file_path, file_format, partition,record_count from {mor_table}.files\").show(truncate=False)"
   ]
  },
  {
   "cell_type": "code",
   "execution_count": null,
   "id": "8e1885fa-9794-4110-ba94-393862cfc7f7",
   "metadata": {},
   "outputs": [],
   "source": []
  }
 ],
 "metadata": {
  "kernelspec": {
   "display_name": "PySpark",
   "language": "python",
   "name": "pysparkkernel"
  },
  "language_info": {
   "codemirror_mode": {
    "name": "python",
    "version": 3
   },
   "file_extension": ".py",
   "mimetype": "text/x-python",
   "name": "pyspark",
   "pygments_lexer": "python3"
  }
 },
 "nbformat": 4,
 "nbformat_minor": 5
}
